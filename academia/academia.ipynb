{
 "cells": [
  {
   "cell_type": "code",
   "execution_count": 1,
   "metadata": {},
   "outputs": [
    {
     "name": "stdout",
     "output_type": "stream",
     "text": [
      "Requirement already satisfied: pynput in c:\\users\\hp\\appdata\\local\\programs\\python\\python311\\lib\\site-packages (1.7.6)Note: you may need to restart the kernel to use updated packages.\n",
      "\n",
      "Requirement already satisfied: six in c:\\users\\hp\\appdata\\roaming\\python\\python311\\site-packages (from pynput) (1.16.0)\n"
     ]
    },
    {
     "name": "stderr",
     "output_type": "stream",
     "text": [
      "\n",
      "[notice] A new release of pip is available: 23.3.1 -> 23.3.2\n",
      "[notice] To update, run: python.exe -m pip install --upgrade pip\n"
     ]
    }
   ],
   "source": [
    "pip install pynput\n"
   ]
  },
  {
   "cell_type": "code",
   "execution_count": 2,
   "metadata": {},
   "outputs": [
    {
     "name": "stdout",
     "output_type": "stream",
     "text": [
      "Get ready, and point your cursor at the first index position...\n"
     ]
    }
   ],
   "source": [
    "\n",
    "from pynput.keyboard import Key, Controller\n",
    "import time\n",
    "\n",
    "keyboard = Controller()\n",
    "\n",
    "def pressTab():\n",
    "    keyboard.press(Key.tab)\n",
    "    time.sleep(0.01)\n",
    "    keyboard.release(Key.tab)\n",
    "    time.sleep(0.01)\n",
    "\n",
    "def pressDown():\n",
    "    keyboard.press(Key.down)\n",
    "    time.sleep(0.01)\n",
    "    keyboard.release(Key.down)\n",
    "    time.sleep(0.01)\n",
    "\n",
    "def fill_feedback():\n",
    "    pressDown()\n",
    "    time.sleep(1)\n",
    "    pressDown()\n",
    "    pressDown()\n",
    "    pressDown()\n",
    "    pressDown()\n",
    "    pressDown()\n",
    "    pressDown()\n",
    "    pressDown()\n",
    "    pressDown()\n",
    "    pressDown() \n",
    "    pressTab()\n",
    "\n",
    "print(\"Get ready, and point your cursor at the first index position...\")\n",
    "time.sleep(3)\n",
    "\n",
    "while(True):\n",
    "    fill_feedback()"
   ]
  }
 ],
 "metadata": {
  "kernelspec": {
   "display_name": "Python 3",
   "language": "python",
   "name": "python3"
  },
  "language_info": {
   "codemirror_mode": {
    "name": "ipython",
    "version": 3
   },
   "file_extension": ".py",
   "mimetype": "text/x-python",
   "name": "python",
   "nbconvert_exporter": "python",
   "pygments_lexer": "ipython3",
   "version": "3.11.3"
  }
 },
 "nbformat": 4,
 "nbformat_minor": 2
}
