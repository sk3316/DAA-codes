{
 "cells": [
  {
   "cell_type": "code",
   "execution_count": 1,
   "metadata": {},
   "outputs": [
    {
     "name": "stdout",
     "output_type": "stream",
     "text": [
      "4\n"
     ]
    }
   ],
   "source": [
    "def count_non_repeated_digits(n1, n2):\n",
    "    count = 0\n",
    "    for num in range(n1, n2 + 1):\n",
    "        num_str = str(num)\n",
    "        if len(set(num_str)) == len(num_str):\n",
    "            count += 1\n",
    "    return count\n",
    "\n",
    "# Sample Input\n",
    "n1 = int(input())\n",
    "n2 = int(input())\n",
    "\n",
    "# Sample Output\n",
    "result = count_non_repeated_digits(n1, n2)\n",
    "print(result)\n"
   ]
  },
  {
   "cell_type": "code",
   "execution_count": 3,
   "metadata": {},
   "outputs": [
    {
     "name": "stdout",
     "output_type": "stream",
     "text": [
      "4\n",
      "5\n",
      "1\n",
      "2\n",
      "3\n"
     ]
    }
   ],
   "source": [
    "def rotate_array(arr, k):\n",
    "    n = len(arr)\n",
    "    \n",
    "    # Function to reverse array elements from start to end index\n",
    "    def reverse(start, end):\n",
    "        while start < end:\n",
    "            arr[start], arr[end] = arr[end], arr[start]\n",
    "            start += 1\n",
    "            end -= 1\n",
    "    \n",
    "    # Reverse the entire array\n",
    "    reverse(0, n - 1)\n",
    "    \n",
    "    # Reverse the first K elements\n",
    "    reverse(0, k - 1)\n",
    "    \n",
    "    # Reverse the remaining elements\n",
    "    reverse(k, n - 1)\n",
    "    \n",
    "    return arr\n",
    "\n",
    "# Input\n",
    "n = int(input())\n",
    "arr = [int(input()) for _ in range(n)]\n",
    "k = int(input())\n",
    "\n",
    "# Output\n",
    "result = rotate_array(arr, k)\n",
    "for elem in result:\n",
    "    print(elem)\n"
   ]
  },
  {
   "cell_type": "code",
   "execution_count": 4,
   "metadata": {},
   "outputs": [
    {
     "name": "stdout",
     "output_type": "stream",
     "text": [
      "nayan\n",
      "naman\n",
      "tenet\n"
     ]
    }
   ],
   "source": [
    "def is_palindrome(s):\n",
    "    return s == s[::-1]\n",
    "\n",
    "def split_into_3_palindromes(word):\n",
    "    n = len(word)\n",
    "    for i in range(1, n):\n",
    "        for j in range(i + 1, n):\n",
    "            first = word[:i]\n",
    "            second = word[i:j]\n",
    "            third = word[j:]\n",
    "            \n",
    "            if is_palindrome(first) and is_palindrome(second) and is_palindrome(third):\n",
    "                return first, second, third\n",
    "    \n",
    "    return \"Impossible\"\n",
    "\n",
    "# Input\n",
    "word = input().strip()\n",
    "\n",
    "# Output\n",
    "result = split_into_3_palindromes(word)\n",
    "for substring in result:\n",
    "    print(substring)\n"
   ]
  },
  {
   "cell_type": "code",
   "execution_count": 5,
   "metadata": {},
   "outputs": [
    {
     "name": "stdout",
     "output_type": "stream",
     "text": [
      "1\n"
     ]
    }
   ],
   "source": [
    "MOD = int(1e9 + 7)\n",
    "\n",
    "def count_even_permutations(low, high, k):\n",
    "    dp = [0] * (k + 1)\n",
    "    dp[0] = 1\n",
    "\n",
    "    for i in range(1, k + 1):\n",
    "        for j in range(low, high + 1):\n",
    "            if j % 2 == 0:\n",
    "                dp[i] = (dp[i] + dp[i - 1]) % MOD\n",
    "\n",
    "    return dp[k]\n",
    "# Input\n",
    "low = int(input())\n",
    "high = int(input())\n",
    "k = int(input())\n",
    "\n",
    "# Output\n",
    "result = count_even_permutations(low, high, k)\n",
    "print(result)\n"
   ]
  },
  {
   "cell_type": "code",
   "execution_count": 11,
   "metadata": {},
   "outputs": [
    {
     "name": "stdout",
     "output_type": "stream",
     "text": [
      "549\n"
     ]
    }
   ],
   "source": [
    "def nearest_larger_number(a, b):\n",
    "    a_digits = list(str(a))\n",
    "    result = -1\n",
    "\n",
    "    for i in range(len(a_digits)):\n",
    "        for j in range(i + 1, len(a_digits)):\n",
    "            # Swap digits i and j\n",
    "            a_digits[i], a_digits[j] = a_digits[j], a_digits[i]\n",
    "\n",
    "            # Create a new number\n",
    "            new_number = int(\"\".join(a_digits))\n",
    "\n",
    "            # Check if the new number is greater than b and update result\n",
    "            if b < new_number < result or result == -1:\n",
    "                result = new_number\n",
    "\n",
    "            # Swap back to the original order\n",
    "            a_digits[i], a_digits[j] = a_digits[j], a_digits[i]\n",
    "\n",
    "    return result\n",
    "# Input\n",
    "a, b = map(int, input().split())\n",
    "# Output\n",
    "result = nearest_larger_number(a, b)\n",
    "print(result)\n"
   ]
  },
  {
   "cell_type": "code",
   "execution_count": 17,
   "metadata": {},
   "outputs": [],
   "source": [
    "from collections import deque\n",
    "\n",
    "def minutes_to_catch_fire(M, N, X, Y, forest):\n",
    "    directions = [(0, 1), (0, -1), (1, 0), (-1, 0), (1, 1), (1, -1), (-1, 1), (-1, -1)]\n",
    "\n",
    "    queue = deque([(X, Y, 0)])  # Initial tree on fire (X, Y) and time taken (0)\n",
    "    visited = set([(X, Y)])  # Visited positions\n",
    "\n",
    "    while queue:\n",
    "        x, y, minutes = queue.popleft()\n",
    "\n",
    "        for dx, dy in directions:\n",
    "            nx, ny = x + dx, y + dy\n",
    "\n",
    "            if 0 <= nx < M and 0 <= ny < N and (nx, ny) not in visited and forest[nx][ny] == 'T':\n",
    "                queue.append((nx, ny, minutes + 1))\n",
    "                visited.add((nx, ny))\n",
    "\n",
    "    return minutes\n",
    "\n",
    "# Input\n",
    "M, N = map(int, input().split())\n",
    "X, Y = map(int, input().split())\n",
    "forest = [input().strip() for _ in range(M)]\n",
    "\n",
    "# Output\n",
    "result = minutes_to_catch_fire(M, N, X-1, Y-1, forest)\n",
    "print(\"Total Power Points:\", result)\n"
   ]
  }
 ],
 "metadata": {
  "kernelspec": {
   "display_name": "Python 3",
   "language": "python",
   "name": "python3"
  },
  "language_info": {
   "codemirror_mode": {
    "name": "ipython",
    "version": 3
   },
   "file_extension": ".py",
   "mimetype": "text/x-python",
   "name": "python",
   "nbconvert_exporter": "python",
   "pygments_lexer": "ipython3",
   "version": "3.11.3"
  }
 },
 "nbformat": 4,
 "nbformat_minor": 2
}
